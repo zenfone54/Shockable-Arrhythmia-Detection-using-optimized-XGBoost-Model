{
  "nbformat": 4,
  "nbformat_minor": 0,
  "metadata": {
    "colab": {
      "provenance": []
    },
    "kernelspec": {
      "name": "python3",
      "display_name": "Python 3"
    },
    "language_info": {
      "name": "python"
    }
  },
  "cells": [
    {
      "cell_type": "code",
      "execution_count": null,
      "metadata": {
        "id": "xBEjaB3eS8oB"
      },
      "outputs": [],
      "source": [
        "import pandas as pd\n",
        "import numpy as np\n",
        "import seaborn as sns\n",
        "import matplotlib.pyplot as plt\n",
        "import matplotlib.cm as cm\n",
        "\n",
        "df = pd.read_csv(\"D:\\Capstone\\Databases\\ML CSV\\CUDB_VFDB_combined.csv\")"
      ]
    },
    {
      "cell_type": "code",
      "source": [
        "df.shape"
      ],
      "metadata": {
        "colab": {
          "base_uri": "https://localhost:8080/"
        },
        "id": "gGlVQakATFRf",
        "outputId": "363249f8-8cc0-4aa6-c1db-55c507ec439d"
      },
      "execution_count": null,
      "outputs": [
        {
          "output_type": "execute_result",
          "data": {
            "text/plain": [
              "(12775, 12)"
            ]
          },
          "metadata": {},
          "execution_count": 43
        }
      ]
    },
    {
      "cell_type": "code",
      "source": [
        "# Separate the data into two classes\n",
        "class_0 = df[df[\"rhythm\"] == 0]\n",
        "class_1 = df[df[\"rhythm\"] == 1]\n",
        "\n",
        "# Undersample class 0 to match the number of samples in class 1\n",
        "class_0_undersampled = class_0.sample(n=len(class_1), random_state=42)\n",
        "\n",
        "# Concatenate the undersampled class 0 with class 1\n",
        "balanced_df = pd.concat([class_0_undersampled, class_1])\n",
        "\n",
        "# Shuffle the concatenated DataFrame to mix the rows\n",
        "balanced_df = balanced_df.sample(frac=1, random_state=100)"
      ],
      "metadata": {
        "id": "XFAKDu2nTGxO"
      },
      "execution_count": null,
      "outputs": []
    },
    {
      "cell_type": "code",
      "source": [
        "print(balanced_df['rhythm'].value_counts())"
      ],
      "metadata": {
        "colab": {
          "base_uri": "https://localhost:8080/"
        },
        "id": "mZnQlDAHTIP3",
        "outputId": "825b4ec9-cc4a-4add-bcc6-b4cfc9e02218"
      },
      "execution_count": null,
      "outputs": [
        {
          "output_type": "stream",
          "name": "stdout",
          "text": [
            "rhythm\n",
            "1    2399\n",
            "0    2399\n",
            "Name: count, dtype: int64\n"
          ]
        }
      ]
    },
    {
      "cell_type": "code",
      "source": [
        "#X = balanced_df.drop(columns=['std_dev','rhythm'])\n",
        "X = balanced_df.iloc[:, :-1]\n",
        "y = balanced_df.iloc[:, -1]"
      ],
      "metadata": {
        "id": "f1NuBLmiTJvw"
      },
      "execution_count": null,
      "outputs": []
    },
    {
      "cell_type": "code",
      "source": [
        "from sklearn.model_selection import train_test_split\n",
        "X_train, X_test, y_train, y_test = train_test_split(X, y, test_size=0.2, random_state= 100)"
      ],
      "metadata": {
        "id": "hh46mrTKTLVb"
      },
      "execution_count": null,
      "outputs": []
    },
    {
      "cell_type": "code",
      "source": [
        "import xgboost as xgb\n",
        "\n",
        "model = xgb.XGBClassifier(colsample_bytree = 0.816432335230161,\n",
        "gamma = 0,\n",
        "learning_rate = 0.060309950161179966,\n",
        "max_depth = 10,\n",
        "n_estimators = 500,\n",
        "reg_alpha = 0,\n",
        "reg_lambda = 7,\n",
        "subsample = 0.9946951308154663)\n",
        "\n",
        "#model = xgb.XGBClassifier()\n",
        "model.fit(X_train,y_train)\n",
        "y_predict = model.predict(X_test)\n",
        "y_train_predict = model.predict(X_train)\n",
        "from sklearn.metrics import accuracy_score\n",
        "print('Train accuracy',accuracy_score(y_train, y_train_predict))\n",
        "print('Test accuracy',accuracy_score(y_test,y_predict))"
      ],
      "metadata": {
        "colab": {
          "base_uri": "https://localhost:8080/"
        },
        "id": "saeSp1nkTNHX",
        "outputId": "f627635e-51aa-476e-8fef-784b283ff079"
      },
      "execution_count": null,
      "outputs": [
        {
          "output_type": "stream",
          "name": "stdout",
          "text": [
            "Train accuracy 0.9994788952579469\n",
            "Test accuracy 0.95\n"
          ]
        }
      ]
    },
    {
      "cell_type": "code",
      "source": [],
      "metadata": {
        "id": "m6pkrB4xTO-w"
      },
      "execution_count": null,
      "outputs": []
    },
    {
      "cell_type": "code",
      "source": [
        "import pandas as pd\n",
        "from sklearn.model_selection import train_test_split\n",
        "from sklearn.ensemble import RandomForestClassifier\n",
        "from sklearn.metrics import accuracy_score\n",
        "import xgboost as xgb\n",
        "\n",
        "# Read the data\n",
        "df = pd.read_csv(\"D:/Capstone/Databases/ML CSV/CUDB_VFDB_combined.csv\")\n",
        "\n",
        "# Separate features and target variable\n",
        "X = df.iloc[:, :-1]\n",
        "y = df.iloc[:, -1]\n",
        "\n",
        "# Undersample the majority class to balance the dataset\n",
        "class_0 = df[df[\"rhythm\"] == 0]\n",
        "class_1 = df[df[\"rhythm\"] == 1]\n",
        "class_0_undersampled = class_0.sample(n=len(class_1), random_state=42)\n",
        "balanced_df = pd.concat([class_0_undersampled, class_1])\n",
        "balanced_df = balanced_df.sample(frac=1, random_state=100)\n",
        "\n",
        "# Split the dataset into training and testing sets\n",
        "X_train, X_test, y_train, y_test = train_test_split(X, y, test_size=0.2, random_state=100)\n",
        "\n",
        "# Train Random Forest model\n",
        "rf_model = RandomForestClassifier(random_state=42)\n",
        "rf_model.fit(X_train, y_train)\n",
        "\n",
        "# Generate predictions from Random Forest model\n",
        "rf_predictions = rf_model.predict(X_test)\n",
        "\n",
        "# Train XGBoost model\n",
        "xgb_model = xgb.XGBClassifier(\n",
        "    colsample_bytree=0.816432335230161,\n",
        "    gamma=0,\n",
        "    learning_rate=0.060309950161179966,\n",
        "    max_depth=10,\n",
        "    n_estimators=500,\n",
        "    reg_alpha=0,\n",
        "    reg_lambda=7,\n",
        "    subsample=0.9946951308154663\n",
        ")\n",
        "xgb_model.fit(X_train, y_train)\n",
        "\n",
        "# Generate predictions from XGBoost model\n",
        "xgb_predictions = xgb_model.predict(X_test)\n",
        "\n",
        "# Convert hybrid predictions to binary\n",
        "hybrid_predictions_binary = (rf_predictions + xgb_predictions) / 2\n",
        "hybrid_predictions_binary[hybrid_predictions_binary < 0.5] = 0\n",
        "hybrid_predictions_binary[hybrid_predictions_binary >= 0.5] = 1\n",
        "\n",
        "# Evaluate the performance of the hybrid model\n",
        "hybrid_accuracy = accuracy_score(y_test, hybrid_predictions_binary)\n",
        "print('Hybrid Model Accuracy:', hybrid_accuracy)\n",
        "\n"
      ],
      "metadata": {
        "colab": {
          "base_uri": "https://localhost:8080/"
        },
        "id": "ac7ro9_PUC2v",
        "outputId": "426490cb-83c6-4f7f-ddcc-87cd8260296c"
      },
      "execution_count": null,
      "outputs": [
        {
          "output_type": "stream",
          "name": "stdout",
          "text": [
            "Hybrid Model Accuracy: 0.9432485322896281\n"
          ]
        }
      ]
    },
    {
      "cell_type": "code",
      "source": [
        "from sklearn.metrics import classification_report, roc_auc_score\n",
        "from sklearn.metrics import confusion_matrix\n",
        "\n",
        "# Confusion matrix for hybrid model\n",
        "tn, fp, fn, tp = confusion_matrix(y_test, hybrid_predictions_binary).ravel()\n",
        "\n",
        "# Calculate sensitivity\n",
        "sensitivity = tp / (tp + fn)\n",
        "\n",
        "# Calculate specificity\n",
        "specificity = tn / (tn + fp)\n",
        "\n",
        "# Calculate precision\n",
        "precision = tp / (tp + fp)\n",
        "\n",
        "# Calculate NPV (Negative Predictive Value)\n",
        "npv = tn / (tn + fn)\n",
        "# Calculate AUC-ROC score for hybrid model\n",
        "auc_roc = roc_auc_score(y_test, hybrid_predictions_binary)\n",
        "print(\"AUC-ROC Score for Hybrid Model:\", auc_roc)\n",
        "# Print the calculated metrics\n",
        "print(\"Sensitivity:\", sensitivity)\n",
        "print(\"Specificity:\", specificity)\n",
        "print(\"Precision:\", precision)\n",
        "print(\"NPV (Negative Predictive Value):\", npv)"
      ],
      "metadata": {
        "colab": {
          "base_uri": "https://localhost:8080/"
        },
        "id": "fojlkCV2c-Xj",
        "outputId": "5a39c684-ba28-4637-ce94-cfa3053a558c"
      },
      "execution_count": null,
      "outputs": [
        {
          "output_type": "stream",
          "name": "stdout",
          "text": [
            "AUC-ROC Score for Hybrid Model: 0.9094938600815224\n",
            "Sensitivity: 0.8548057259713702\n",
            "Specificity: 0.9641819941916747\n",
            "Precision: 0.8495934959349594\n",
            "NPV (Negative Predictive Value): 0.9655841008240427\n"
          ]
        }
      ]
    },
    {
      "cell_type": "code",
      "source": [
        "accuracy_score(y_test,rf_predictions)"
      ],
      "metadata": {
        "colab": {
          "base_uri": "https://localhost:8080/"
        },
        "id": "dlrq1llpalLe",
        "outputId": "1ef2c3ba-ca75-4617-8103-12ec3d5cb6f0"
      },
      "execution_count": null,
      "outputs": [
        {
          "output_type": "execute_result",
          "data": {
            "text/plain": [
              "0.938160469667319"
            ]
          },
          "metadata": {},
          "execution_count": 59
        }
      ]
    },
    {
      "cell_type": "code",
      "source": [
        "accuracy_score(y_test,xgb_predictions)"
      ],
      "metadata": {
        "colab": {
          "base_uri": "https://localhost:8080/"
        },
        "id": "lxZqB4ySbBMx",
        "outputId": "b1994f6a-c3a1-4a4a-cf56-67703cec880a"
      },
      "execution_count": null,
      "outputs": [
        {
          "output_type": "execute_result",
          "data": {
            "text/plain": [
              "0.9436399217221135"
            ]
          },
          "metadata": {},
          "execution_count": 60
        }
      ]
    },
    {
      "cell_type": "markdown",
      "source": [
        "# **Bayesian optimization for RF**"
      ],
      "metadata": {
        "id": "_dtNG0TFVv5_"
      }
    },
    {
      "cell_type": "code",
      "source": [
        "from skopt import BayesSearchCV\n",
        "from sklearn.ensemble import RandomForestClassifier\n",
        "from sklearn.metrics import make_scorer, accuracy_score\n",
        "\n",
        "# Define the objective function\n",
        "def objective(params):\n",
        "    rf = RandomForestClassifier(**params)\n",
        "    rf.fit(X_train, y_train)\n",
        "    y_pred = rf.predict(X_test)\n",
        "    accuracy = accuracy_score(y_test, y_pred)\n",
        "    return -accuracy  # Minimize negative accuracy\n",
        "\n",
        "# Define the search space\n",
        "param_space = {\n",
        "    'n_estimators': (50, 500),\n",
        "    'max_depth': (3, 10),\n",
        "    'min_samples_split': (2, 20),\n",
        "    'min_samples_leaf': (1, 10),\n",
        "    'max_features': (0.1, 1.0),\n",
        "}\n",
        "\n",
        "# Initialize the BayesSearchCV object\n",
        "opt = BayesSearchCV(\n",
        "    RandomForestClassifier(),\n",
        "    param_space,\n",
        "    n_iter=50,\n",
        "    scoring='accuracy',\n",
        "    cv=5,\n",
        "    random_state=42,\n",
        "    n_jobs=-1\n",
        ")\n",
        "np.int = int\n",
        "\n",
        "# Fit the BayesSearchCV object\n",
        "opt.fit(X_train, y_train)\n",
        "\n",
        "# Get the best hyperparameters\n",
        "best_params = opt.best_params_\n",
        "print(\"Best Hyperparameters:\", best_params)\n"
      ],
      "metadata": {
        "id": "_ehJ0n4QVyWr"
      },
      "execution_count": null,
      "outputs": []
    }
  ]
}