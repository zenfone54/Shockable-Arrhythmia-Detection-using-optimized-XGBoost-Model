{
  "nbformat": 4,
  "nbformat_minor": 0,
  "metadata": {
    "colab": {
      "provenance": []
    },
    "kernelspec": {
      "name": "python3",
      "display_name": "Python 3"
    },
    "language_info": {
      "name": "python"
    }
  },
  "cells": [
    {
      "cell_type": "code",
      "execution_count": null,
      "metadata": {
        "id": "6BvHJNE5TYtN"
      },
      "outputs": [],
      "source": [
        "import pandas as pd\n",
        "import numpy as np\n",
        "import seaborn as sns\n",
        "import matplotlib.pyplot as plt\n",
        "\n",
        "df = pd.read_csv(\"D:\\Capstone\\Databases\\ML CSV\\CUDB_VFDB_combined.csv\")"
      ]
    },
    {
      "cell_type": "code",
      "source": [
        "df.shape"
      ],
      "metadata": {
        "colab": {
          "base_uri": "https://localhost:8080/"
        },
        "id": "NsJkPMEZTks7",
        "outputId": "e8cddec0-c3db-43ff-c6da-7ee772f75a0a"
      },
      "execution_count": null,
      "outputs": [
        {
          "output_type": "execute_result",
          "data": {
            "text/plain": [
              "(12775, 12)"
            ]
          },
          "metadata": {},
          "execution_count": 1380
        }
      ]
    },
    {
      "cell_type": "code",
      "source": [
        "# Separate the data into two classes\n",
        "class_0 = df[df[\"rhythm\"] == 0]\n",
        "class_1 = df[df[\"rhythm\"] == 1]\n",
        "\n",
        "# Undersample class 0 to match the number of samples in class 1\n",
        "class_0_undersampled = class_0.sample(n=len(class_1), random_state=42)\n",
        "\n",
        "# Concatenate the undersampled class 0 with class 1\n",
        "balanced_df = pd.concat([class_0_undersampled, class_1])\n",
        "\n",
        "# Shuffle the concatenated DataFrame to mix the rows\n",
        "balanced_df = balanced_df.sample(frac=1, random_state=100)"
      ],
      "metadata": {
        "id": "Ih5JIqOsTsUN"
      },
      "execution_count": null,
      "outputs": []
    },
    {
      "cell_type": "code",
      "source": [
        "print(balanced_df['rhythm'].value_counts())"
      ],
      "metadata": {
        "colab": {
          "base_uri": "https://localhost:8080/"
        },
        "id": "dE3vI8K1TuNI",
        "outputId": "aaecbaef-e189-434a-d6dd-2eda1a1e4d53"
      },
      "execution_count": null,
      "outputs": [
        {
          "output_type": "stream",
          "name": "stdout",
          "text": [
            "rhythm\n",
            "1    2399\n",
            "0    2399\n",
            "Name: count, dtype: int64\n"
          ]
        }
      ]
    },
    {
      "cell_type": "code",
      "source": [
        "balanced_df.columns"
      ],
      "metadata": {
        "colab": {
          "base_uri": "https://localhost:8080/"
        },
        "id": "IKm-coKVTv3x",
        "outputId": "53614ea7-655b-499d-bd72-71733136634e"
      },
      "execution_count": null,
      "outputs": [
        {
          "output_type": "execute_result",
          "data": {
            "text/plain": [
              "Index(['TCSC', 'MAV', 'STE', 'MEA', 'Shannon_ent', 'sample_ent', 'band_power',\n",
              "       'segment_energy', 'skewness', 'kurtosis', 'std_dev', 'rhythm'],\n",
              "      dtype='object')"
            ]
          },
          "metadata": {},
          "execution_count": 1383
        }
      ]
    },
    {
      "cell_type": "code",
      "source": [
        "#X = balanced_df.drop(columns=['TCSC', 'energy', 'rhythm'])\n",
        "X = balanced_df.iloc[:, :-1]\n",
        "y = balanced_df.iloc[:, -1]"
      ],
      "metadata": {
        "id": "jFmiui-OTxiq"
      },
      "execution_count": null,
      "outputs": []
    },
    {
      "cell_type": "code",
      "source": [
        "from sklearn.model_selection import train_test_split\n",
        "X_train, X_test, y_train, y_test = train_test_split(X, y, test_size=0.2, random_state= 100)"
      ],
      "metadata": {
        "id": "rwqCnTMSTzPf"
      },
      "execution_count": null,
      "outputs": []
    },
    {
      "cell_type": "code",
      "source": [
        "X_test.shape, X_train.shape, y_test.shape , y_train.shape"
      ],
      "metadata": {
        "colab": {
          "base_uri": "https://localhost:8080/"
        },
        "id": "fBsuP0EIT1CP",
        "outputId": "a8302867-2f7a-4da8-f5ee-22ae05271e0b"
      },
      "execution_count": null,
      "outputs": [
        {
          "output_type": "execute_result",
          "data": {
            "text/plain": [
              "((960, 11), (3838, 11), (960,), (3838,))"
            ]
          },
          "metadata": {},
          "execution_count": 1386
        }
      ]
    },
    {
      "cell_type": "code",
      "source": [
        "import xgboost as xgb\n",
        "\n",
        "model = xgb.XGBClassifier()\n",
        "model.fit(X_train,y_train)\n",
        "y_predict = model.predict(X_test)\n",
        "y_train_predict = model.predict(X_train)\n",
        "from sklearn.metrics import accuracy_score\n",
        "print('Test accuracy',accuracy_score(y_test,y_predict))"
      ],
      "metadata": {
        "colab": {
          "base_uri": "https://localhost:8080/"
        },
        "id": "uK9JadqqFNVG",
        "outputId": "abe6f785-fe00-4142-ec39-82280adef7ab"
      },
      "execution_count": null,
      "outputs": [
        {
          "output_type": "stream",
          "name": "stdout",
          "text": [
            "Test accuracy 0.9364583333333333\n"
          ]
        }
      ]
    },
    {
      "cell_type": "code",
      "source": [
        "from sklearn.metrics import classification_report\n",
        "print(classification_report(y_predict, y_test))"
      ],
      "metadata": {
        "colab": {
          "base_uri": "https://localhost:8080/"
        },
        "id": "tlrvbDJsUBvk",
        "outputId": "9b9d6974-8df1-41da-c3c6-928196799b3f"
      },
      "execution_count": null,
      "outputs": [
        {
          "output_type": "stream",
          "name": "stdout",
          "text": [
            "              precision    recall  f1-score   support\n",
            "\n",
            "           0       0.92      0.95      0.94       472\n",
            "           1       0.95      0.92      0.94       488\n",
            "\n",
            "    accuracy                           0.94       960\n",
            "   macro avg       0.94      0.94      0.94       960\n",
            "weighted avg       0.94      0.94      0.94       960\n",
            "\n"
          ]
        }
      ]
    }
  ]
}